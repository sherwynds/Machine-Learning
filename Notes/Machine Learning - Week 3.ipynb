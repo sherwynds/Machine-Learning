{
 "cells": [
  {
   "cell_type": "markdown",
   "metadata": {},
   "source": [
    "<h1><center>Machine Learning - Week 3</center></h1>"
   ]
  },
  {
   "cell_type": "markdown",
   "metadata": {},
   "source": [
    "<h2><center>Classification Problems</center></h2>\n",
    "\n",
    "**Classification:** Discretely valued output ($y$) variable\n",
    "\n",
    "**Binary Classification:** $y \\in \\{0,1\\}$ where 0 = Negative Class (ex. benign tumor), 1 = Positive Class (ex. malignant tumor)"
   ]
  },
  {
   "cell_type": "markdown",
   "metadata": {},
   "source": [
    "<h2><center>Logistic Regression</center></h2>\n",
    "\n",
    "### Hypothesis Representation\n",
    "\n",
    "Logistic regression classifies values between $0 \\leq h_\\theta(x) \\leq 1$\n",
    "\n",
    "**Hypothesis:** $h_\\theta(x) = g(\\theta^Tx) = h_\\theta(x) = \\frac{1}{1+e^{-\\theta^Tx}}$\n",
    "\n",
    "**Sigmoid/Logistic Function:** $g(z) = \\frac{1}{1+e^{-z}}$\n",
    "\n",
    "![](img/sigmoid.png)\n",
    "\n",
    "$h_\\theta(x)$ is the estimated probability that $y = 1$ on input $x$\n",
    " - Mathetmatically, $h_\\theta(x) = P(y=1 \\space | \\space x;\\theta)$ means probability that $y=1$ given $x$, parameterized by $\\theta$\n",
    " - Predict $y = 1$ if $h_\\theta(x) \\geq 0.5$, $y = 0$ if $h_\\theta(x) < 0.5$\n",
    " - Equivalently: Predict $y = 1$ if $\\theta^Tx \\geq 0$, $y = 0$ if $\\theta^Tx < 0$"
   ]
  },
  {
   "cell_type": "markdown",
   "metadata": {},
   "source": [
    "### Decision Boundary\n",
    "**Decision Boundary:** The regression defined by $\\theta^Tx = 0$ - not always linear\n",
    " - Linear Decision Boundary ![](img/linear_decision_boundary.png)\n",
    " - Non-Linear Decision Boundary ![](img/non-linear_decision_boundary.png)\n",
    "\n",
    "\n",
    "\n"
   ]
  },
  {
   "cell_type": "markdown",
   "metadata": {},
   "source": [
    "### Cost Function\n",
    "\n",
    "Existing Cost Function: $J(\\theta) = \\frac{1}{m} \\sum_{i=1}^{m}\\frac{1}{2}(h_\\theta(x^{(i)}) - y^{(i)})^2 = \\frac{1}{m} \\sum_{i=1}^{m} \\text{Cost}(h_\\theta(x^{(i)}),y^{(i)})$ where $Cost(h_\\theta(x), y) = \\frac{1}{2}(h_\\theta(x) - y)$\n",
    "- Produces a *non-convex* curve, with many local extrema ![](img/non-convex.png)\n",
    "- We want a *convex* curve ![](img/convex.png)\n",
    "\n",
    "Instead: $\\text{Cost}(h_\\theta(x),y) = \\begin{cases} -\\log(h\\theta(x)) \\space \\space \\space \\space \\space \\space \\space \\space \\space \\space \\text{ if } y=1 \\\\ -\\log((1-h_\\theta(x)) \\space \\space \\text{ if } y=0 \\end{cases} \\space \\space \\space \\space \\leftrightarrow \\space \\space \\space \\space -y\\log(h_\\theta(x)) - (1-y)\\log(1-h_\\theta(x))$\n",
    "\n",
    "![](img/logistic_regression_1.png) ![](img/logistic_regression_2.png)"
   ]
  },
  {
   "cell_type": "markdown",
   "metadata": {},
   "source": [
    "**Cost Function:** $J(\\theta) = -\\frac{1}{m} \\sum_{i=1}^m y^{(i)}\\log (h_\\theta(x^{(i)})) + (1-y^{(i)})\\log(1-h_\\theta(x^{(i)}))$\n",
    "\n",
    "**Vectorized Cost Function:** $J(\\theta) = \\frac{1}{m}\\cdot(-y^T\\log(h)-(1-y)^T\\log(1-h))$ where $h = g(X\\theta)$"
   ]
  },
  {
   "cell_type": "markdown",
   "metadata": {},
   "source": [
    "### Gradient Descent\n",
    "\n",
    "Goal is to $\\min_\\theta J(\\theta)$ simultaneously updating each $\\theta_j$\n",
    "\n",
    "$\\text{Repeat } \\{ \\\\\n",
    "\\space \\space \\space \\space \\theta_j = \\theta_j - \\alpha \\frac{\\partial}{\\partial \\theta_j}J(\\theta) = \\theta_j - \\alpha \\frac{1}{m} \\sum_{i=1}^m(h_\\theta(x^{(i)})-y^{(i)})\\cdot x_j^{(i)} \\\\\n",
    "\\}$\n",
    "\n",
    "**Vectorized Gradient Descent:** $\\theta := \\theta - \\frac{\\alpha}{m}X^T(g(X\\theta)-y)$"
   ]
  },
  {
   "cell_type": "code",
   "execution_count": null,
   "metadata": {},
   "outputs": [],
   "source": []
  }
 ],
 "metadata": {
  "kernelspec": {
   "display_name": "Python 3",
   "language": "python",
   "name": "python3"
  },
  "language_info": {
   "codemirror_mode": {
    "name": "ipython",
    "version": 3
   },
   "file_extension": ".py",
   "mimetype": "text/x-python",
   "name": "python",
   "nbconvert_exporter": "python",
   "pygments_lexer": "ipython3",
   "version": "3.7.6"
  }
 },
 "nbformat": 4,
 "nbformat_minor": 4
}
