{
 "cells": [
  {
   "cell_type": "markdown",
   "metadata": {},
   "source": [
    "# Machine Learning - Linear Algebra Review"
   ]
  },
  {
   "cell_type": "markdown",
   "metadata": {},
   "source": [
    "**Matrice:** A 2D array\n",
    "\n",
    "$$\\begin{bmatrix}\n",
    "a & b & c \\\\\n",
    "d & e & f \\\\\n",
    "g & h & i \\\\\n",
    "j & k & l\n",
    "\\end{bmatrix}$$\n",
    "\n",
    "A matrix with four rows and three columns ($4 \\times 3$) matrix"
   ]
  },
  {
   "cell_type": "markdown",
   "metadata": {},
   "source": [
    "**Vector:** Matrix with one column and many rows $\\rightarrow$ subset of matrices\n",
    "\n",
    "$$\\begin{bmatrix}\n",
    "w \\\\\n",
    "x \\\\\n",
    "y \\\\\n",
    "z\\end{bmatrix}$$\n",
    "\n",
    "This vector is a $4\\times1$ matrix"
   ]
  },
  {
   "cell_type": "markdown",
   "metadata": {},
   "source": [
    "## Notation and Terms"
   ]
  },
  {
   "cell_type": "markdown",
   "metadata": {},
   "source": [
    "**Scalar** $\\rightarrow$ Single value, not a vector or matrix\n",
    "\n",
    "$A_{ij}$ $\\rightarrow$ Element in the $i$th row and $j$th column of matrix $A$\n",
    "\n",
    "$v_i$ $\\rightarrow$ Element in the $i$th row of vector $v$\n",
    "\n",
    "$n$-dimensional vector $\\rightarrow$ Vector with $n$ rows\n",
    "\n",
    "$\\mathbb{R}$ $\\rightarrow$ Set of scalar real numbers\n",
    "\n",
    "$\\mathbb{R}^n$ $\\rightarrow$ Set of n-dimensional vectors of real numbers \n",
    "\n",
    "Matrices are usually uppercase while vectors are lowercase\n",
    "\n",
    "Notes on Matlab/Python Comparison:\n",
    " - Matlab is 1-indexed, Python is 0-indexed\n",
    " - Matlab vectors are by default $m \\times 1$, whereas python vectors are by default $m$\n",
    "     - To promote a Python vector to $m \\times 1$ use `v[:,None]`\n",
    "     - To promote a Python vector to $1 \\times n$ use `v[None,:]`"
   ]
  },
  {
   "cell_type": "markdown",
   "metadata": {},
   "source": [
    "## Vector Creation and Dimensions"
   ]
  },
  {
   "cell_type": "code",
   "execution_count": 1,
   "metadata": {},
   "outputs": [
    {
     "name": "stdout",
     "output_type": "stream",
     "text": [
      "Matrix A\n",
      "[[ 1  2  3]\n",
      " [ 4  5  6]\n",
      " [ 7  8  9]\n",
      " [10 11 12]]\n",
      "\n",
      "Vector v\n",
      "[1 2 3]\n",
      "Promoted to Matrix\n",
      "[[1]\n",
      " [2]\n",
      " [3]]\n",
      "\n",
      "Dimension of A = (4, 3)\n",
      "Dimension of v = (3,)\n",
      "Dimension of v Promoted to Matrix = (3, 1)\n",
      "\n",
      "Value at Row 2 Column 3 = 6\n"
     ]
    }
   ],
   "source": [
    "import numpy as np\n",
    "\n",
    "# Initialize a matrix\n",
    "A = np.array([[1,2,3],\n",
    "              [4,5,6],\n",
    "              [7,8,9],\n",
    "              [10,11,12]])\n",
    "\n",
    "# Initialize a vector\n",
    "v = np.array([1,2,3])\n",
    "\n",
    "# Get the dimension of matrix A\n",
    "dim_A = A.shape\n",
    "\n",
    "# Get the dimension of the vector v\n",
    "dim_v = v.shape\n",
    "# Promote v to a column matrix\n",
    "dim_v_matrix = v[:,None].shape\n",
    "\n",
    "# Index into row 2 column 3 of matrix A\n",
    "A_23 = A[1][2]\n",
    "\n",
    "print(\"Matrix A\")\n",
    "print(A)\n",
    "print(\"\\nVector v\")\n",
    "print(v)\n",
    "print(\"Promoted to Matrix\")\n",
    "print(v[:,None])\n",
    "print(\"\\nDimension of A = \" + str(dim_A))\n",
    "print(\"Dimension of v = \" + str(dim_v))\n",
    "print(\"Dimension of v Promoted to Matrix = \" + str(dim_v_matrix))\n",
    "print(\"\\nValue at Row 2 Column 3 = \" + str(A_23))"
   ]
  },
  {
   "cell_type": "markdown",
   "metadata": {},
   "source": [
    "## Addition and Subtraction\n",
    "\n",
    "Matrix addition and subtraction is *element-wise* $\\rightarrow$ add or subtract corresponding elements\n",
    "\n",
    "$$\\text{Addition: }\n",
    "\\begin{bmatrix}\n",
    "a & b \\\\\n",
    "c & d\n",
    "\\end{bmatrix} + \n",
    "\\begin{bmatrix}\n",
    "w & x \\\\\n",
    "y & z\n",
    "\\end{bmatrix} =\n",
    "\\begin{bmatrix}\n",
    "a+w & b+x \\\\\n",
    "c+y & d+z\n",
    "\\end{bmatrix}$$\n",
    "\n",
    "$$\\text{Subtraction: }\n",
    "\\begin{bmatrix}\n",
    "a & b \\\\\n",
    "c & d\n",
    "\\end{bmatrix} - \n",
    "\\begin{bmatrix}\n",
    "w & x \\\\\n",
    "y & z\n",
    "\\end{bmatrix} =\n",
    "\\begin{bmatrix}\n",
    "a-w & b-x \\\\\n",
    "c-y & d-z\n",
    "\\end{bmatrix}$$\n",
    "\n",
    "Dimensionality must be the same for matrix addition and subtraction"
   ]
  },
  {
   "cell_type": "code",
   "execution_count": 2,
   "metadata": {},
   "outputs": [
    {
     "name": "stdout",
     "output_type": "stream",
     "text": [
      "Matrix A\n",
      "[[1 2 4]\n",
      " [5 3 2]]\n",
      "\n",
      "Matrix B\n",
      "[[1 3 4]\n",
      " [1 1 1]]\n",
      "\n",
      "Scalar s\n",
      "2\n",
      "\n",
      "Addition\n",
      "[[2 5 8]\n",
      " [6 4 3]]\n",
      "\n",
      "Subtraction\n",
      "[[ 0 -1  0]\n",
      " [ 4  2  1]]\n",
      "\n",
      "Scalar Addition\n",
      "[[3 4 6]\n",
      " [7 5 4]]\n"
     ]
    }
   ],
   "source": [
    "# Initialize matrix A and B\n",
    "A = np.array([[1,2,4],\n",
    "              [5,3,2]])\n",
    "B = np.array([[1,3,4],\n",
    "              [1,1,1]])\n",
    "# Initialize scalar s\n",
    "s = 2\n",
    "\n",
    "# Addition\n",
    "add_AB = A+B\n",
    "# Subtraction\n",
    "sub_AB = A-B\n",
    "# Scalar Addition\n",
    "add_As = A+s\n",
    "\n",
    "print(\"Matrix A\")\n",
    "print(A)\n",
    "print(\"\\nMatrix B\")\n",
    "print(B)\n",
    "print(\"\\nScalar s\")\n",
    "print(s)\n",
    "\n",
    "print(\"\\nAddition\")\n",
    "print(add_AB)\n",
    "print(\"\\nSubtraction\")\n",
    "print(sub_AB)\n",
    "print(\"\\nScalar Addition\")\n",
    "print(add_As)"
   ]
  },
  {
   "cell_type": "markdown",
   "metadata": {},
   "source": [
    "## Scalar Multiplication and Division\n",
    "\n",
    "With scalar multiplication/division, we multiply/divide each element by the scalar\n",
    "\n",
    "$$\\text{Multiplication: }\n",
    "\\begin{bmatrix}\n",
    "a & b \\\\\n",
    "c & d\n",
    "\\end{bmatrix} \\cdot x = \n",
    "\\begin{bmatrix}\n",
    "ax & bx \\\\\n",
    "cx & dx\n",
    "\\end{bmatrix}$$\n",
    "\n",
    "$$\\text{Division: }\n",
    "\\begin{bmatrix}\n",
    "a & b \\\\\n",
    "c & d\n",
    "\\end{bmatrix} \\div x = \n",
    "\\begin{bmatrix}\n",
    "\\frac{a}{x} & \\frac{b}{x} \\\\\n",
    "\\frac{c}{x} & \\frac{d}{x}\n",
    "\\end{bmatrix}$$\n",
    "\n"
   ]
  },
  {
   "cell_type": "code",
   "execution_count": 3,
   "metadata": {},
   "outputs": [
    {
     "name": "stdout",
     "output_type": "stream",
     "text": [
      "Scalar Multiplication\n",
      "[[ 2  4  8]\n",
      " [10  6  4]]\n",
      "\n",
      "Scalar Division\n",
      "[[0.5 1.  2. ]\n",
      " [2.5 1.5 1. ]]\n"
     ]
    }
   ],
   "source": [
    "# Scalar Multiplication\n",
    "mult_As = A*s\n",
    "# Scalar Division\n",
    "div_As = A/s\n",
    "\n",
    "print(\"Scalar Multiplication\")\n",
    "print(mult_As)\n",
    "print(\"\\nScalar Division\")\n",
    "print(div_As)"
   ]
  },
  {
   "cell_type": "markdown",
   "metadata": {},
   "source": [
    "## Matrix-Vector Multiplication and Division\n",
    "\n",
    "Map the column of the vector to each row of the matrix, multiply each element, and sum the result\n",
    " - Matrix-vector multiplication results in a vector\n",
    " - Number of cols must equal number of rows\n",
    " - $m \\times n$ matrix multiplied by $n \\times 1$ vector results in $m \\times 1$ vector\n",
    " \n",
    "$$\\begin{bmatrix}\n",
    "a & b \\\\\n",
    "c & d \\\\\n",
    "e & f \\\\\n",
    "\\end{bmatrix} \\cdot\n",
    "\\begin{bmatrix}\n",
    "x \\\\\n",
    "y\n",
    "\\end{bmatrix} =\n",
    "\\begin{bmatrix}\n",
    "ax+by \\\\\n",
    "cx+dy \\\\\n",
    "ex+fy\n",
    "\\end{bmatrix}$$"
   ]
  },
  {
   "cell_type": "code",
   "execution_count": 4,
   "metadata": {},
   "outputs": [
    {
     "name": "stdout",
     "output_type": "stream",
     "text": [
      "Matrix-Vector Multiplication\n",
      "[ 6 15 24]\n"
     ]
    }
   ],
   "source": [
    "# Initialize matrix A\n",
    "A = np.array([[1,2,3],\n",
    "              [4,5,6],\n",
    "              [7,8,9]])\n",
    "# Initialize vector v\n",
    "v = np.array([1,1,1])\n",
    "\n",
    "# Multiply A * v\n",
    "# Note: np.dot (A,v) considers v nx1, np.dot(v,A) considers v 1xn\n",
    "Av = np.dot(A,v)\n",
    "\n",
    "print(\"Matrix-Vector Multiplication\")\n",
    "print(Av)"
   ]
  },
  {
   "cell_type": "markdown",
   "metadata": {},
   "source": [
    "## Matrix-Matrix Multiplication\n",
    "\n",
    "Multiply matrix A by matrix B by breaking B into component vectors and multiply A by each vector in B, concatenating the result\n",
    " - $m \\times n$ matrix multiplied by $n \\times o$ matrix results in an $m \\times o$ matrix\n",
    " - Num cols in the first matrix must equal num rows in the second matrix\n",
    "\n",
    "$$\\begin{bmatrix}\n",
    "a & b \\\\\n",
    "c & d \\\\\n",
    "e & f \\\\\n",
    "\\end{bmatrix} \\cdot\n",
    "\\begin{bmatrix}\n",
    "w & x \\\\\n",
    "y & z\n",
    "\\end{bmatrix} =\n",
    "\\begin{bmatrix}\n",
    "aw+by & ax+bz \\\\\n",
    "cw+dy & cx+dz \\\\\n",
    "ew+fy & ex+fz\n",
    "\\end{bmatrix}$$"
   ]
  },
  {
   "cell_type": "code",
   "execution_count": 5,
   "metadata": {},
   "outputs": [
    {
     "name": "stdout",
     "output_type": "stream",
     "text": [
      "Matrix-Matrix Multiplication\n",
      "[ 5 11 17]\n"
     ]
    }
   ],
   "source": [
    "# Initialize a 3x2 matrix A\n",
    "A = np.array([[1,2],\n",
    "              [3,4],\n",
    "              [5,6]])\n",
    "\n",
    "# Initialize a 2x1 matrix B\n",
    "B = np.array([1,2])\n",
    "\n",
    "# Multiply A*B: Expect a matrix of (3x2)*(2x1)=(3x1)\n",
    "AB = np.dot(A,B)\n",
    "\n",
    "print(\"Matrix-Matrix Multiplication\")\n",
    "print(AB)"
   ]
  },
  {
   "cell_type": "markdown",
   "metadata": {},
   "source": [
    "## Matrix Multiplication Properties\n",
    "\n",
    "Matrices are not commutative: $A \\cdot B \\neq B \\cdot A$\n",
    "\n",
    "Matrices are associative: $(A \\cdot B) \\cdot C = A \\cdot (B \\cdot C)$\n",
    "\n",
    "**Identity Matrix:** When multiplied by any matrix of the same dimension, it results in the original matrix\n",
    " - Has 1s on the diagonal (upper-left to lower-right diagonal), 0s elsewhere\n",
    " - When multiplying after some matrix ($A \\times I$) the square identity matrix's dimension should match the other matrix's *columns*\n",
    " - When multiplying after some matrix ($I \\times A$) the square identity matrix's dimension should match the other matrix's *rows*\n",
    " \n",
    "$$\\begin{bmatrix}\n",
    "1 & 0 & 0 \\\\\n",
    "0 & 1 & 0 \\\\\n",
    "0 & 0 & 1 \n",
    "\\end{bmatrix}$$"
   ]
  },
  {
   "cell_type": "code",
   "execution_count": 6,
   "metadata": {},
   "outputs": [
    {
     "name": "stdout",
     "output_type": "stream",
     "text": [
      "I*A = A*I\n",
      "[[1. 2.]\n",
      " [4. 5.]]\n",
      "[[1. 2.]\n",
      " [4. 5.]]\n",
      "\n",
      "A*B != B*A\n",
      "[[ 1  5]\n",
      " [ 4 14]]\n",
      "[[ 5  7]\n",
      " [ 8 10]]\n"
     ]
    }
   ],
   "source": [
    "# Initialize matrices A and B\n",
    "A = np.array([[1,2],\n",
    "              [4,5]])\n",
    "B = np.array([[1,1],\n",
    "              [0,2]])\n",
    "\n",
    "# Initialize a 2x2 identity matrice\n",
    "I = np.eye(2)\n",
    "\n",
    "IA = np.dot(I,A)\n",
    "AI = np.dot(A,I)\n",
    "\n",
    "AB = np.dot(A,B)\n",
    "BA = np.dot(B,A)\n",
    "\n",
    "print(\"I*A = A*I\")\n",
    "print(IA)\n",
    "print(AI)\n",
    "print(\"\\nA*B != B*A\")\n",
    "print(AB)\n",
    "print(BA)"
   ]
  },
  {
   "cell_type": "markdown",
   "metadata": {},
   "source": [
    "## Inverse and Transpose\n",
    "\n",
    "**Inverse of Matrix:** Denoted by $A^{-1}$, multiplying by the inverse results in the identity matrix\n",
    " - Non-square matrices do not have an inverse matrix\n",
    " - *Singular/Degenerate* means the matrix doesn't have an inverse\n",
    "\n",
    "**Transposition:** Rotating the matrix 90 degrees clockwise and then reversing it.\n",
    "\n",
    "$$A = \\begin{bmatrix}\n",
    "a & b \\\\\n",
    "c & d \\\\\n",
    "e & f \\\\\n",
    "\\end{bmatrix} \\rightarrow\n",
    "A^T = \\begin{bmatrix}\n",
    "a & c & e \\\\\n",
    "b & d & f\n",
    "\\end{bmatrix}\n",
    "$$\n",
    "\n",
    "Therefore, $A_{ij} = A_{ji}^T$"
   ]
  },
  {
   "cell_type": "code",
   "execution_count": 8,
   "metadata": {},
   "outputs": [
    {
     "name": "stdout",
     "output_type": "stream",
     "text": [
      "[[1 0 7]\n",
      " [2 5 0]\n",
      " [0 6 9]]\n",
      "[[ 0.34883721 -0.13953488  0.09302326]\n",
      " [ 0.3255814   0.06976744 -0.04651163]\n",
      " [-0.27131783  0.10852713  0.03875969]]\n",
      "[[ 1.00000000e+00 -1.11022302e-16  7.91033905e-16]\n",
      " [ 2.77555756e-16  1.00000000e+00  1.11022302e-16]\n",
      " [-2.77555756e-16  0.00000000e+00  1.00000000e+00]]\n"
     ]
    }
   ],
   "source": [
    "# Initialize matrix A\n",
    "A = np.array([[1,2,0],\n",
    "              [0,5,6],\n",
    "              [7,0,9]])\n",
    "\n",
    "# Transpose A\n",
    "A_trans = A.transpose()\n",
    "\n",
    "# Inverse of A\n",
    "A_inv = np.linalg.pinv(A)\n",
    "\n",
    "# Prove A^(-1)*A = Identity Matrix\n",
    "I = np.dot(A_inv,A)\n",
    "\n",
    "print(A_trans)\n",
    "print(A_inv)\n",
    "print(I)"
   ]
  },
  {
   "cell_type": "code",
   "execution_count": null,
   "metadata": {},
   "outputs": [],
   "source": []
  }
 ],
 "metadata": {
  "kernelspec": {
   "display_name": "Python 3",
   "language": "python",
   "name": "python3"
  },
  "language_info": {
   "codemirror_mode": {
    "name": "ipython",
    "version": 3
   },
   "file_extension": ".py",
   "mimetype": "text/x-python",
   "name": "python",
   "nbconvert_exporter": "python",
   "pygments_lexer": "ipython3",
   "version": "3.7.6"
  }
 },
 "nbformat": 4,
 "nbformat_minor": 4
}
