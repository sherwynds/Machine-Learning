{
 "cells": [
  {
   "cell_type": "markdown",
   "metadata": {},
   "source": [
    "# Machine Learning - Linear Algebra Review"
   ]
  },
  {
   "cell_type": "markdown",
   "metadata": {},
   "source": [
    "**Matrice:** A 2D array\n",
    "\n",
    "$$\\begin{bmatrix}\n",
    "a & b & c \\\\\n",
    "d & e & f \\\\\n",
    "j & k & l\n",
    "\\end{bmatrix}$$\n",
    "\n",
    "A matrix with four rows and three columns ($4 \\times 3$) matrix"
   ]
  },
  {
   "cell_type": "markdown",
   "metadata": {},
   "source": [
    "**Vector:** Matrix with one column and many rows $\\rightarrow$ subset of matrices\n",
    "\n",
    "$$\\begin{bmatrix}\n",
    "w & x & y & z\\\\\n",
    "\\end{bmatrix}$$\n",
    "\n",
    "This vector is a $4\\times1$ matrix"
   ]
  },
  {
   "cell_type": "markdown",
   "metadata": {},
   "source": [
    "## Notation and Terms"
   ]
  },
  {
   "cell_type": "markdown",
   "metadata": {},
   "source": [
    "**Scalar** $\\rightarrow$ Single value, not a vector or matrix\n",
    "\n",
    "$A_{ij}$ $\\rightarrow$ Element in the $i$th row and $j$th column of matrix $A$\n",
    "\n",
    "$n$-dimensional vector $\\rightarrow$ Vector with $n$ rows\n",
    "\n",
    "$\\mathbb{R}$ $\\rightarrow$ Set of scalar real numbers\n",
    "\n",
    "$\\mathbb{R}^n$ $\\rightarrow$ Set of n-dimensional vectors of real numbers \n",
    "\n",
    "Notes:\n",
    " - Matlab is 1-indexed, Python is 0-indexed\n",
    " - Matrices are usually uppercase while vectors are lowercase"
   ]
  },
  {
   "cell_type": "markdown",
   "metadata": {},
   "source": [
    "## Vector Creation and Dimensions"
   ]
  },
  {
   "cell_type": "code",
   "execution_count": 13,
   "metadata": {},
   "outputs": [
    {
     "name": "stdout",
     "output_type": "stream",
     "text": [
      "Matrix A\n",
      "[[ 1  2  3]\n",
      " [ 4  5  6]\n",
      " [ 7  8  9]\n",
      " [10 11 12]]\n",
      "\n",
      "Vector v\n",
      "[[1]\n",
      " [2]\n",
      " [3]]\n",
      "\n",
      "Dimension of A = (4, 3)\n",
      "Dimension of v = (3, 1)\n",
      "\n",
      "Value at Row 2 Column 3 = 6\n"
     ]
    }
   ],
   "source": [
    "import numpy as np\n",
    "\n",
    "# Initialize a matrix\n",
    "A = np.array([[1,2,3],\n",
    "              [4,5,6],\n",
    "              [7,8,9],\n",
    "              [10,11,12]])\n",
    "\n",
    "# Initialize a vector\n",
    "v = np.array([[1],\n",
    "              [2],\n",
    "              [3]])\n",
    "\n",
    "# Get the dimension of matrix A\n",
    "dim_A = A.shape\n",
    "\n",
    "# Get the dimension of the vector v\n",
    "dim_v = v.shape\n",
    "\n",
    "# Index into row 2 column 3 of matrix A\n",
    "A_23 = A[1][2]\n",
    "\n",
    "print(\"Matrix A\")\n",
    "print(A)\n",
    "print(\"\\nVector v\")\n",
    "print(v)\n",
    "print(\"\\nDimension of A = \" + str(dim_A))\n",
    "print(\"Dimension of v = \" + str(dim_v))\n",
    "print(\"\\nValue at Row 2 Column 3 = \" + str(A_23))"
   ]
  },
  {
   "cell_type": "markdown",
   "metadata": {},
   "source": [
    "## Addition and Subtraction\n",
    "\n",
    "Matrix addition and subtraction is *element-wise* $\\rightarrow$ add or subtract corresponding elements\n",
    "\n",
    "$$\\text{Addition: }\n",
    "\\begin{bmatrix}\n",
    "a & b \\\\\n",
    "c & d\n",
    "\\end{bmatrix} + \n",
    "\\begin{bmatrix}\n",
    "w & x \\\\\n",
    "y & z\n",
    "\\end{bmatrix} =\n",
    "\\begin{bmatrix}\n",
    "a+w & b+x \\\\\n",
    "c+y & d+z\n",
    "\\end{bmatrix}$$\n",
    "\n",
    "$$\\text{Subtraction: }\n",
    "\\begin{bmatrix}\n",
    "a & b \\\\\n",
    "c & d\n",
    "\\end{bmatrix} - \n",
    "\\begin{bmatrix}\n",
    "w & x \\\\\n",
    "y & z\n",
    "\\end{bmatrix} =\n",
    "\\begin{bmatrix}\n",
    "a-w & b-x \\\\\n",
    "c-y & d-z\n",
    "\\end{bmatrix}$$\n",
    "\n",
    "Dimensionality must be the same for matrix addition and subtraction"
   ]
  },
  {
   "cell_type": "code",
   "execution_count": 20,
   "metadata": {},
   "outputs": [
    {
     "name": "stdout",
     "output_type": "stream",
     "text": [
      "Matrix A\n",
      "[[1 2 4]\n",
      " [5 3 2]]\n",
      "\n",
      "Matrix B\n",
      "[[1 3 4]\n",
      " [1 1 1]]\n",
      "\n",
      "Scalar s\n",
      "2\n",
      "\n",
      "Addition\n",
      "[[2 5 8]\n",
      " [6 4 3]]\n",
      "\n",
      "Subtraction\n",
      "[[ 0 -1  0]\n",
      " [ 4  2  1]]\n",
      "\n",
      "Scalar Addition\n",
      "[[3 4 6]\n",
      " [7 5 4]]\n"
     ]
    }
   ],
   "source": [
    "# Initialize matrix A and B\n",
    "A = np.array([[1,2,4],\n",
    "              [5,3,2]])\n",
    "B = np.array([[1,3,4],\n",
    "              [1,1,1]])\n",
    "# Initialize scalar s\n",
    "s = 2\n",
    "\n",
    "# Addition\n",
    "add_AB = A+B\n",
    "# Subtraction\n",
    "sub_AB = A-B\n",
    "# Scalar Addition\n",
    "add_As = A+s\n",
    "\n",
    "print(\"Matrix A\")\n",
    "print(A)\n",
    "print(\"\\nMatrix B\")\n",
    "print(B)\n",
    "print(\"\\nScalar s\")\n",
    "print(s)\n",
    "\n",
    "print(\"\\nAddition\")\n",
    "print(add_AB)\n",
    "print(\"\\nSubtraction\")\n",
    "print(sub_AB)\n",
    "print(\"\\nScalar Addition\")\n",
    "print(add_As)"
   ]
  },
  {
   "cell_type": "markdown",
   "metadata": {},
   "source": [
    "## Scalar Multiplication and Division\n",
    "\n",
    "With scalar multiplication/division, we multiply/divide each element by the scalar\n",
    "\n",
    "$$\\text{Multiplication: }\n",
    "\\begin{bmatrix}\n",
    "a & b \\\\\n",
    "c & d\n",
    "\\end{bmatrix} \\cdot x = \n",
    "\\begin{bmatrix}\n",
    "ax & bx \\\\\n",
    "cx & dx\n",
    "\\end{bmatrix}$$\n",
    "\n",
    "$$\\text{Division: }\n",
    "\\begin{bmatrix}\n",
    "a & b \\\\\n",
    "c & d\n",
    "\\end{bmatrix} \\div x = \n",
    "\\begin{bmatrix}\n",
    "\\frac{a}{x} & \\frac{b}{x} \\\\\n",
    "\\frac{c}{x} & \\frac{d}{x}\n",
    "\\end{bmatrix}$$\n",
    "\n"
   ]
  },
  {
   "cell_type": "code",
   "execution_count": 21,
   "metadata": {},
   "outputs": [
    {
     "name": "stdout",
     "output_type": "stream",
     "text": [
      "Scalar Multiplication\n",
      "[[ 2  4  8]\n",
      " [10  6  4]]\n",
      "\n",
      "Scalar Division\n",
      "[[0.5 1.  2. ]\n",
      " [2.5 1.5 1. ]]\n"
     ]
    }
   ],
   "source": [
    "# Scalar Multiplication\n",
    "mult_As = A*s\n",
    "# Scalar Division\n",
    "div_As = A/s\n",
    "\n",
    "print(\"Scalar Multiplication\")\n",
    "print(mult_As)\n",
    "print(\"\\nScalar Division\")\n",
    "print(div_As)"
   ]
  },
  {
   "cell_type": "markdown",
   "metadata": {},
   "source": [
    "## Matrix-Vector Multiplication and Division\n",
    "\n",
    "Map the column of the vector to each row of the matrix, multiply each element, and sum the result\n",
    " - Matrix-vector multiplication results in a vector\n",
    " - Number of cols must equal number of rows\n",
    " - $m \\times n$ matrix multiplied by $n \\times 1$ vector results in $m \\times 1$ vector\n",
    " \n",
    "$$\\begin{bmatrix}\n",
    "a & b \\\\\n",
    "c & d \\\\\n",
    "e & f \\\\\n",
    "\\end{bmatrix} \\cdot\n",
    "\\begin{bmatrix}\n",
    "x \\\\\n",
    "y\n",
    "\\end{bmatrix} =\n",
    "\\begin{bmatrix}\n",
    "ax+by \\\\\n",
    "cx+dy \\\\\n",
    "ex+fy\n",
    "\\end{bmatrix}$$"
   ]
  },
  {
   "cell_type": "code",
   "execution_count": 29,
   "metadata": {},
   "outputs": [],
   "source": [
    "# TODO TODO TODO\n",
    "# # Initialize matrix A\n",
    "# A = np.array([[1,2,3],\n",
    "#               [4,5,6],\n",
    "#               [7,8,9]])\n",
    "# # Initialize vector v\n",
    "# v = np.array([[2],\n",
    "#               [1],\n",
    "#               [1]])\n",
    "\n",
    "# # Multiply A * v\n",
    "# Av = A*v\n",
    "\n",
    "# print(\"Matrix-Vector Multiplication\")\n",
    "# print(Av)"
   ]
  },
  {
   "cell_type": "code",
   "execution_count": null,
   "metadata": {},
   "outputs": [],
   "source": []
  }
 ],
 "metadata": {
  "kernelspec": {
   "display_name": "Python 3",
   "language": "python",
   "name": "python3"
  },
  "language_info": {
   "codemirror_mode": {
    "name": "ipython",
    "version": 3
   },
   "file_extension": ".py",
   "mimetype": "text/x-python",
   "name": "python",
   "nbconvert_exporter": "python",
   "pygments_lexer": "ipython3",
   "version": "3.7.6"
  }
 },
 "nbformat": 4,
 "nbformat_minor": 4
}
