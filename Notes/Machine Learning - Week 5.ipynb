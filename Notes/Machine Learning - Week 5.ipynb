{
 "cells": [
  {
   "cell_type": "markdown",
   "metadata": {},
   "source": [
    "<h1><center>Machine Learning - Week 5</center></h1>"
   ]
  },
  {
   "cell_type": "markdown",
   "metadata": {},
   "source": [
    "<h2><center>Neural Networks - Algorithm (Classification)</center></h2>\n",
    "\n",
    "### Cost Function\n",
    "\n",
    "#### Notation\n",
    "- $L \\rightarrow$ total no. of layers in the network\n",
    "- $s_l \\rightarrow$ no. of units (not including bias unit) in layer $l$\n",
    "- $K \\rightarrow$ no. of units in the output layer (number of classes) ($s_L$)\n",
    "\n",
    "#### Cost\n",
    "\n",
    "$J(\\theta) = -\\frac{1}{m} [\\sum_{i=1}^m y^{(i)}\\log (h_\\theta(x^{(i)})) + (1-y^{(i)})\\log(1-h_\\theta(x^{(i)}))] + \\frac{\\lambda}{2m}\\sum_{j=1}^n\\theta_j^2$\n",
    "\n",
    "$h_\\theta(x) \\in \\mathbb{R}^K$ since there are $K$ output neurons\n",
    "\n",
    "$(h_\\theta(x))_i$ is the $i^{th}$ element of the output"
   ]
  },
  {
   "cell_type": "markdown",
   "metadata": {},
   "source": [
    "$J(\\theta) = -\\frac{1}{m} [\\sum_{i=1}^m \\sum_{k=1}^K y_k^{(i)}\\log (h_\\theta(x^{(i)}))_k + (1-y_k^{(i)})\\log(1-(h_\\theta(x^{(i)}))_k)] + \\frac{\\lambda}{2m} \\sum_{l=1}^{L-1} \\sum_{i=1}^{s_l} \\sum_{j=1}^{s_{l+1}}(\\theta_{ji}^{(l)})^2$\n",
    "\n",
    "- $\\sum_{k=1}^K$ means to sum over every class - in the case $K=1$ it is the same as regular logistic regression\n",
    "- $\\sum_{l=1}^{L-1} \\sum_{i=1}^{s_l} \\sum_{j=1}^{s_{l+1}}(\\theta_{ji}^{(l)})^2$ means to sum over every level's $\\theta$ values\n",
    "- The $i$ in the triple sum does *not* refer to training example $i$"
   ]
  },
  {
   "cell_type": "markdown",
   "metadata": {},
   "source": [
    "### Backpropagation\n",
    "\n",
    "Goal is to $\\min_\\theta J(\\theta)$, therefore we need\n",
    "- $J(\\theta)$\n",
    "- $\\frac{\\partial}{\\partial \\theta_{ij}^{(l)}}J(\\theta)$\n",
    "\n",
    "$\\delta_j^{(l)}$ represents the error of node $j$ in layer $l$\n",
    "\n",
    "For each output unit (layer $L = 4$):\n",
    "$\\delta_j^{(4)} = a_j^{(4)} - y_j$\n",
    "\n",
    "**Vectorized:** \n",
    "$\\delta^{(4)} = a^{(4)}-y$\n",
    "- $\\delta^{(3)} = (\\theta^{(3)})^T\\delta^{(4)}*g'(z^{(3)}) = (\\theta^{(3)})^T\\delta^{(4)}*a^{(3)}*(1-a^{(3)})$\n",
    "- $\\delta^{(2)} = (\\theta^{(2)})^T\\delta^{(3)}*g'(z^{(2)}) = (\\theta^{(2)})^T\\delta^{(3)}*a^{(2)}*(1-a^{(2)})$\n",
    "- No $\\delta^{(1)}$ term because it is the input layer\n",
    "\n",
    "Where $*$ is element-wise multiplication (Hadamard product)\n",
    "\n",
    "*Note about derivatives:* In general, $\\frac{\\partial}{\\partial \\theta_{ij}^{(l)}}J(\\theta) = a_j^{(l)}\\delta_i^{(l+1)}$ assuming $\\lambda = 0$ (no regularization)\n",
    "\n",
    "#### Algorithm\n",
    "\n",
    "1. Set $\\Delta_{ij}^{(l)} = 0$ for all ($l,i,j$)\n",
    "2. For $i = 1$ to $m$:\n",
    " - Set $a^{(i)} = x^{(i)}$ (input layer)\n",
    " - Perform forward propagation to compute $a^{(l)}$ for $l = 2,\\ldots,L$\n",
    " - Using $y^{(i)}$ compute $\\delta^{(L)} = a^{(L)}-y^{(i)}$\n",
    " - Compute $\\delta^{(L-1)},\\ldots,\\delta^{(2)}$\n",
    " - $\\Delta_{ij}^{(l)} := \\Delta_{ij}^{(l)} + a_j^{(l)}\\delta_i^{(l+1)}$ **Vectorized:** $\\Delta^{(l)} = \\Delta^{(l)} + \\delta^{(l+1)}(a^{(l)})^T$\n",
    "3. Calculate $\\frac{\\partial}{\\partial \\theta_{ij}^{(l)}}J(\\theta)=D_{ij}^{(l)}$\n",
    " - $D_{ij}^{(l)} := \\frac{1}{m}(\\Delta_{ij}^{(l)}+\\lambda \\theta_{ij}^{(l)})$ if $j \\neq 0$\n",
    " - $D_{ij}^{(l)} := \\frac{1}{m}\\Delta_{ij}^{(l)}$ if $j = 0$\n"
   ]
  },
  {
   "cell_type": "code",
   "execution_count": null,
   "metadata": {},
   "outputs": [],
   "source": []
  },
  {
   "cell_type": "code",
   "execution_count": null,
   "metadata": {},
   "outputs": [],
   "source": []
  }
 ],
 "metadata": {
  "kernelspec": {
   "display_name": "Python 3",
   "language": "python",
   "name": "python3"
  },
  "language_info": {
   "codemirror_mode": {
    "name": "ipython",
    "version": 3
   },
   "file_extension": ".py",
   "mimetype": "text/x-python",
   "name": "python",
   "nbconvert_exporter": "python",
   "pygments_lexer": "ipython3",
   "version": "3.7.6"
  }
 },
 "nbformat": 4,
 "nbformat_minor": 4
}
