{
 "cells": [
  {
   "cell_type": "markdown",
   "metadata": {},
   "source": [
    "<h1><center>Machine Learning - Week 3</center></h1>"
   ]
  },
  {
   "cell_type": "markdown",
   "metadata": {},
   "source": [
    "<h2><center>Classification Problems</center></h2>\n",
    "\n",
    "**Classification:** Discretely valued output ($y$) variable\n",
    "\n",
    "**Binary Classification:** $y \\in \\{0,1\\}$ where 0 = Negative Class (ex. benign tumor), 1 = Positive Class (ex. malignant tumor)"
   ]
  },
  {
   "cell_type": "markdown",
   "metadata": {},
   "source": [
    "<h2><center>Logistic Regression</center></h2>\n",
    "\n",
    "### Hypothesis Representation\n",
    "\n",
    "Logistic regression classifies values between $0 \\leq h_\\theta(x) \\leq 1$\n",
    "\n",
    "**Hypothesis:** $h_\\theta(x) = g(\\theta^Tx) = h_\\theta(x) = \\frac{1}{1+e^{-\\theta^Tx}}$\n",
    "\n",
    "**Sigmoid/Logistic Function:** $g(z) = \\frac{1}{1+e^{-z}}$\n",
    "\n",
    "![](img/sigmoid.png)\n",
    "\n",
    "$h_\\theta(x)$ is the estimated probability that $y = 1$ on input $x$\n",
    " - Mathetmatically, $h_\\theta(x) = P(y=1 \\space | \\space x;\\theta)$ means probability that $y=1$ given $x$, parameterized by $\\theta$\n",
    " - Predict $y = 1$ if $h_\\theta(x) \\geq 0.5$, $y = 0$ if $h_\\theta(x) < 0.5$\n",
    " - Equivalently: Predict $y = 1$ if $\\theta^Tx \\geq 0$, $y = 0$ if $\\theta^Tx < 0$"
   ]
  },
  {
   "cell_type": "markdown",
   "metadata": {},
   "source": [
    "### Decision Boundary\n",
    "**Decision Boundary:** The regression defined by $\\theta^Tx = 0$ - not always linear\n",
    " - Linear Decision Boundary ![](img/linear_decision_boundary.png)\n",
    " - Non-Linear Decision Boundary ![](img/non-linear_decision_boundary.png)\n",
    "\n",
    "\n",
    "\n"
   ]
  },
  {
   "cell_type": "markdown",
   "metadata": {},
   "source": [
    "### Cost Function\n",
    "\n",
    "Existing Cost Function: $J(\\theta) = \\frac{1}{m} \\sum_{i=1}^{m}\\frac{1}{2}(h_\\theta(x^{(i)}) - y^{(i)})^2 = \\frac{1}{m} \\sum_{i=1}^{m} \\text{Cost}(h_\\theta(x^{(i)}),y^{(i)})$ where $Cost(h_\\theta(x), y) = \\frac{1}{2}(h_\\theta(x) - y)$\n",
    "- Produces a *non-convex* curve, with many local extrema ![](img/non-convex.png)\n",
    "- We want a *convex* curve ![](img/convex.png)\n",
    "\n",
    "Instead, use $\\text{Cost}(h_\\theta(x),y) = \\begin{cases} -\\log(h\\theta(x)) \\space \\space \\space \\space \\space \\space \\space \\space \\space \\space \\space \\space \\text{ if } y=1 \\\\ -\\log((1-h_\\theta(x)) \\space \\space \\space \\space \\text{ if } y=0 \\end{cases} \\space \\space \\space \\space = \\space \\space \\space \\space -y\\log(h_\\theta(x)) - (1-y)\\log(1-h_\\theta(x))$"
   ]
  },
  {
   "cell_type": "markdown",
   "metadata": {},
   "source": [
    "### Advanced Optimization\n",
    "\n",
    "Other optimization algorithms:\n",
    " - *Conjugate Gradient*\n",
    " - *BFGS*\n",
    " - *L-BFGS*\n",
    "\n",
    "Advantages:\n",
    " - No need to manually pick $\\alpha$, pick automatically each iteration\n",
    " - Often faster than gradient descent\n",
    "\n",
    "Disadvantages:\n",
    " - More complex\n",
    " \n",
    "*Find libraries to implement these in Python (`fminunc`)*"
   ]
  },
  {
   "cell_type": "markdown",
   "metadata": {},
   "source": [
    "<h2><center>Multiclass Classification</center></h2>\n",
    "\n",
    "**One vs. All:** Take multiple classes and convert each to a binary classification subproblem\n",
    "- Train logistic classifier $h_\\theta^{(i)}(x)$ for each class $i$ to predict probability that $y=i$\n",
    "- On each new input, pick the class $i$ that maximizes: $\\max_ih_\\theta^{(i)}(x)$\n",
    "![](img/one_vs_all.png)"
   ]
  },
  {
   "cell_type": "code",
   "execution_count": null,
   "metadata": {},
   "outputs": [],
   "source": []
  }
 ],
 "metadata": {
  "kernelspec": {
   "display_name": "Python 3",
   "language": "python",
   "name": "python3"
  },
  "language_info": {
   "codemirror_mode": {
    "name": "ipython",
    "version": 3
   },
   "file_extension": ".py",
   "mimetype": "text/x-python",
   "name": "python",
   "nbconvert_exporter": "python",
   "pygments_lexer": "ipython3",
   "version": "3.7.6"
  }
 },
 "nbformat": 4,
 "nbformat_minor": 4
}
