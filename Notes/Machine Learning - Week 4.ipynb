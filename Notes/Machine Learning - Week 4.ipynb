{
 "cells": [
  {
   "cell_type": "markdown",
   "metadata": {},
   "source": [
    "<h1><center>Machine Learning - Week 4</center></h1>"
   ]
  },
  {
   "cell_type": "markdown",
   "metadata": {},
   "source": [
    "<h2><center>Neural Networks - Representation</center></h2>\n",
    "\n",
    "#### Motivation and Intuition\n",
    "\n",
    "With many features ($n$ is large), a quadratic model will expand the feature size to around $\\frac{n^2}{2}$, leading to overfitting $\\rightarrow$ In general, a polynomial model of order $k$ will lead to a feature set in $O(n^k)$\n",
    "\n",
    "Neural networks are based on neurons in the brain"
   ]
  },
  {
   "cell_type": "code",
   "execution_count": null,
   "metadata": {},
   "outputs": [],
   "source": []
  }
 ],
 "metadata": {
  "kernelspec": {
   "display_name": "Python 3",
   "language": "python",
   "name": "python3"
  },
  "language_info": {
   "codemirror_mode": {
    "name": "ipython",
    "version": 3
   },
   "file_extension": ".py",
   "mimetype": "text/x-python",
   "name": "python",
   "nbconvert_exporter": "python",
   "pygments_lexer": "ipython3",
   "version": "3.7.6"
  }
 },
 "nbformat": 4,
 "nbformat_minor": 4
}
