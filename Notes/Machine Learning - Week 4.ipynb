{
 "cells": [
  {
   "cell_type": "markdown",
   "metadata": {},
   "source": [
    "<h1><center>Machine Learning - Week 4</center></h1>"
   ]
  },
  {
   "attachments": {},
   "cell_type": "markdown",
   "metadata": {},
   "source": [
    "<h2><center>Neural Networks - Representation</center></h2>\n",
    "\n",
    "### Motivation and Intuition\n",
    "\n",
    "With many features ($n$ is large), a quadratic model will expand the feature size to around $\\frac{n^2}{2}$, leading to overfitting $\\rightarrow$ In general, a polynomial model of order $k$ will lead to a feature set in $O(n^k)$\n",
    "\n",
    "Neural networks are based on neurons in the brain, which consist of:\n",
    " - *Dendrites:* Input wires\n",
    " - *Cell Body:* Contains the nucleas (brain) of the neuron\n",
    " - *Axons:* Ouput wires\n",
    "\n",
    "### Logistic Neural Model\n",
    "\n",
    "![](img/week_4/neural_model_logistic_unit.png)\n",
    "![](img/week_4/neural_model_multiple_neurons.png)"
   ]
  },
  {
   "cell_type": "markdown",
   "metadata": {},
   "source": [
    "#### Notation \n",
    " - $a_i^{(j)} \\rightarrow$ Activation of unit $i$ in layer$j$\n",
    " - $\\theta^{(j)} \\rightarrow$ Weights matrix controlling the function mapping from layer $j$ to $j+1$\n",
    "\n",
    "#### Activation\n",
    "\n",
    "In the above example, the activation of each neuron is given by:\n",
    "\n",
    "$a_1^{(2)} = g(\\theta_{10}^{(1)}x_0 + \\theta_{11}^{(1)}x_1 + \\theta_{12}^{(1)}x_2 + \\theta_{13}^{(1)}x_3) \\\\\n",
    "a_2^{(2)} = g(\\theta_{20}^{(1)}x_0 + \\theta_{21}^{(1)}x_1 + \\theta_{22}^{(1)}x_2 + \\theta_{23}^{(1)}x_3) \\\\\n",
    "a_3^{(2)} = g(\\theta_{30}^{(1)}x_0 + \\theta_{31}^{(1)}x_1 + \\theta_{32}^{(1)}x_2 + \\theta_{33}^{(1)}x_3) \\\\\\space\\\\\n",
    "h_\\theta(x) = a_1^{(3)} = g(\\theta_{10}^{(2)}a_0^{(2)} + \\theta_{11}^{(2)}a_1^{(2)} + \\theta_{12}^{(2)}a_2^{(2)} + \\theta_{13}^{(2)}a_3^{(2)})$\n",
    "\n",
    "**Dimension of Weights:** If a layer has $s_j$ units in layer $j$, $s_{j+1}$ units in layer $j+1$, then $\\theta^{(j)}$ is of dimension $s_{j+1} \\times (s_j + 1)$\n",
    " - Above example: Dimension of $\\theta^{(1)}$ is $s_{1+1} \\times (s_1 + 1) = 3 \\times 4 = 12$\n",
    " \n",
    " \n"
   ]
  },
  {
   "cell_type": "markdown",
   "metadata": {},
   "source": [
    "### Forward Propagation: Vectorized Implementation\n",
    " - $a_1^{(2)} = g(z_1^{(2)}) = g(\\theta_{10}^{(1)}x_0 + \\theta_{11}^{(1)}x_1 + \\theta_{12}^{(1)}x_2 + \\theta_{13}^{(1)}x_3)$\n",
    " - $a_2^{(2)} = g(z_2^{(2)})$\n",
    " - $a_3^{(2)} = g(z_3^{(2)})$\n",
    "\n",
    "$x = \\begin{bmatrix} x_0 \\\\ x_1 \\\\ x_2 \\\\ x_3 \\end{bmatrix} \\space \\space \\space \\space \\space \\space \\space \\space \\space \\space z^{(2)} = \\begin{bmatrix} z_1^{(2)} \\\\ z_2^{(2)} \\\\ z_3^{(2)} \\end{bmatrix}$\n",
    "\n",
    "$z^{(2)} = \\theta^{(1)}x = \\theta^{(1)}a^{(1)}$ by considering the input layer $x = a^{(1)}$\n",
    "\n",
    "$a^{(2)} = g(z^{(2)})$ where both $a^{(2)}$ and $z^{(2)}$ are 3D vectors ($\\mathbb{R}^3$)\n",
    "\n",
    "Add $a_0^{(2)} = 1 \\rightarrow a_0^{(2)} \\in \\mathbb{R}^4$\n",
    "\n",
    "$z^{(3)} = \\theta^{(2)}a^{(2)}$\n",
    "\n",
    "**Final Vectorized Forward Propagation:**\n",
    "$h_\\theta(x) = a^{(3)} = g(z^{(3)})$\n"
   ]
  },
  {
   "cell_type": "markdown",
   "metadata": {},
   "source": [
    "### Multiclass Classification\n",
    "\n",
    "Where $x^{(i)}$ represents an input image, $y^{(i)}$ represents the output neurons, one of:\n",
    "\n",
    "Pedestrian $\\begin{bmatrix} 1 \\\\ 0 \\\\ 0 \\\\ 0 \\end{bmatrix}$, Car $\\begin{bmatrix} 0 \\\\ 1 \\\\ 0 \\\\ 0 \\end{bmatrix}$, Motorcycle $\\begin{bmatrix} 0 \\\\ 0 \\\\ 1 \\\\ 0 \\end{bmatrix}$, Truck $\\begin{bmatrix} 0 \\\\ 0 \\\\ 0 \\\\ 1 \\end{bmatrix}$\n"
   ]
  },
  {
   "cell_type": "code",
   "execution_count": null,
   "metadata": {},
   "outputs": [],
   "source": []
  }
 ],
 "metadata": {
  "kernelspec": {
   "display_name": "Python 3",
   "language": "python",
   "name": "python3"
  },
  "language_info": {
   "codemirror_mode": {
    "name": "ipython",
    "version": 3
   },
   "file_extension": ".py",
   "mimetype": "text/x-python",
   "name": "python",
   "nbconvert_exporter": "python",
   "pygments_lexer": "ipython3",
   "version": "3.7.6"
  }
 },
 "nbformat": 4,
 "nbformat_minor": 4
}
